{
  "nbformat": 4,
  "nbformat_minor": 0,
  "metadata": {
    "colab": {
      "provenance": []
    },
    "kernelspec": {
      "name": "python3",
      "display_name": "Python 3"
    },
    "language_info": {
      "name": "python"
    }
  },
  "cells": [
    {
      "cell_type": "markdown",
      "source": [
        "## Mini-Project for Feature Selection & Dimensionality Reduction\n",
        "## Author- Mohit Kosekar"
      ],
      "metadata": {
        "id": "_fH8M1a7nuh1"
      }
    },
    {
      "cell_type": "markdown",
      "source": [
        "## Introduction\n",
        "\n",
        "The objective of this assignment is to apply data science techniques, specifically feature selection and dimensionality reduction, to predict the popularity of online news articles based on their characteristics. We aim to identify which features among the 60 available explanatory variables are most predictive of the number of times an article is shared. This involves a careful exploration of the dataset, followed by the application of statistical methods to refine our feature set and construct a predictive model."
      ],
      "metadata": {
        "id": "y-wcWzNQlxop"
      }
    },
    {
      "cell_type": "code",
      "execution_count": null,
      "metadata": {
        "colab": {
          "base_uri": "https://localhost:8080/",
          "height": 342
        },
        "id": "DTW_r6ZGfjFv",
        "outputId": "74d15b8b-fbb0-4114-ca83-0339f0b2d6c2"
      },
      "outputs": [
        {
          "output_type": "execute_result",
          "data": {
            "text/plain": [
              "                                                 url   timedelta  \\\n",
              "0  http://mashable.com/2013/01/07/amazon-instant-...       731.0   \n",
              "1  http://mashable.com/2013/01/07/ap-samsung-spon...       731.0   \n",
              "2  http://mashable.com/2013/01/07/apple-40-billio...       731.0   \n",
              "3  http://mashable.com/2013/01/07/astronaut-notre...       731.0   \n",
              "4   http://mashable.com/2013/01/07/att-u-verse-apps/       731.0   \n",
              "\n",
              "    n_tokens_title   n_tokens_content   n_unique_tokens   n_non_stop_words  \\\n",
              "0             12.0              219.0          0.663594                1.0   \n",
              "1              9.0              255.0          0.604743                1.0   \n",
              "2              9.0              211.0          0.575130                1.0   \n",
              "3              9.0              531.0          0.503788                1.0   \n",
              "4             13.0             1072.0          0.415646                1.0   \n",
              "\n",
              "    n_non_stop_unique_tokens   num_hrefs   num_self_hrefs   num_imgs  ...  \\\n",
              "0                   0.815385         4.0              2.0        1.0  ...   \n",
              "1                   0.791946         3.0              1.0        1.0  ...   \n",
              "2                   0.663866         3.0              1.0        1.0  ...   \n",
              "3                   0.665635         9.0              0.0        1.0  ...   \n",
              "4                   0.540890        19.0             19.0       20.0  ...   \n",
              "\n",
              "    min_positive_polarity   max_positive_polarity   avg_negative_polarity  \\\n",
              "0                0.100000                     0.7               -0.350000   \n",
              "1                0.033333                     0.7               -0.118750   \n",
              "2                0.100000                     1.0               -0.466667   \n",
              "3                0.136364                     0.8               -0.369697   \n",
              "4                0.033333                     1.0               -0.220192   \n",
              "\n",
              "    min_negative_polarity   max_negative_polarity   title_subjectivity  \\\n",
              "0                  -0.600               -0.200000             0.500000   \n",
              "1                  -0.125               -0.100000             0.000000   \n",
              "2                  -0.800               -0.133333             0.000000   \n",
              "3                  -0.600               -0.166667             0.000000   \n",
              "4                  -0.500               -0.050000             0.454545   \n",
              "\n",
              "    title_sentiment_polarity   abs_title_subjectivity  \\\n",
              "0                  -0.187500                 0.000000   \n",
              "1                   0.000000                 0.500000   \n",
              "2                   0.000000                 0.500000   \n",
              "3                   0.000000                 0.500000   \n",
              "4                   0.136364                 0.045455   \n",
              "\n",
              "    abs_title_sentiment_polarity   shares  \n",
              "0                       0.187500      593  \n",
              "1                       0.000000      711  \n",
              "2                       0.000000     1500  \n",
              "3                       0.000000     1200  \n",
              "4                       0.136364      505  \n",
              "\n",
              "[5 rows x 61 columns]"
            ],
            "text/html": [
              "\n",
              "  <div id=\"df-54c45418-2de6-4851-ac6d-96187b5232e8\" class=\"colab-df-container\">\n",
              "    <div>\n",
              "<style scoped>\n",
              "    .dataframe tbody tr th:only-of-type {\n",
              "        vertical-align: middle;\n",
              "    }\n",
              "\n",
              "    .dataframe tbody tr th {\n",
              "        vertical-align: top;\n",
              "    }\n",
              "\n",
              "    .dataframe thead th {\n",
              "        text-align: right;\n",
              "    }\n",
              "</style>\n",
              "<table border=\"1\" class=\"dataframe\">\n",
              "  <thead>\n",
              "    <tr style=\"text-align: right;\">\n",
              "      <th></th>\n",
              "      <th>url</th>\n",
              "      <th>timedelta</th>\n",
              "      <th>n_tokens_title</th>\n",
              "      <th>n_tokens_content</th>\n",
              "      <th>n_unique_tokens</th>\n",
              "      <th>n_non_stop_words</th>\n",
              "      <th>n_non_stop_unique_tokens</th>\n",
              "      <th>num_hrefs</th>\n",
              "      <th>num_self_hrefs</th>\n",
              "      <th>num_imgs</th>\n",
              "      <th>...</th>\n",
              "      <th>min_positive_polarity</th>\n",
              "      <th>max_positive_polarity</th>\n",
              "      <th>avg_negative_polarity</th>\n",
              "      <th>min_negative_polarity</th>\n",
              "      <th>max_negative_polarity</th>\n",
              "      <th>title_subjectivity</th>\n",
              "      <th>title_sentiment_polarity</th>\n",
              "      <th>abs_title_subjectivity</th>\n",
              "      <th>abs_title_sentiment_polarity</th>\n",
              "      <th>shares</th>\n",
              "    </tr>\n",
              "  </thead>\n",
              "  <tbody>\n",
              "    <tr>\n",
              "      <th>0</th>\n",
              "      <td>http://mashable.com/2013/01/07/amazon-instant-...</td>\n",
              "      <td>731.0</td>\n",
              "      <td>12.0</td>\n",
              "      <td>219.0</td>\n",
              "      <td>0.663594</td>\n",
              "      <td>1.0</td>\n",
              "      <td>0.815385</td>\n",
              "      <td>4.0</td>\n",
              "      <td>2.0</td>\n",
              "      <td>1.0</td>\n",
              "      <td>...</td>\n",
              "      <td>0.100000</td>\n",
              "      <td>0.7</td>\n",
              "      <td>-0.350000</td>\n",
              "      <td>-0.600</td>\n",
              "      <td>-0.200000</td>\n",
              "      <td>0.500000</td>\n",
              "      <td>-0.187500</td>\n",
              "      <td>0.000000</td>\n",
              "      <td>0.187500</td>\n",
              "      <td>593</td>\n",
              "    </tr>\n",
              "    <tr>\n",
              "      <th>1</th>\n",
              "      <td>http://mashable.com/2013/01/07/ap-samsung-spon...</td>\n",
              "      <td>731.0</td>\n",
              "      <td>9.0</td>\n",
              "      <td>255.0</td>\n",
              "      <td>0.604743</td>\n",
              "      <td>1.0</td>\n",
              "      <td>0.791946</td>\n",
              "      <td>3.0</td>\n",
              "      <td>1.0</td>\n",
              "      <td>1.0</td>\n",
              "      <td>...</td>\n",
              "      <td>0.033333</td>\n",
              "      <td>0.7</td>\n",
              "      <td>-0.118750</td>\n",
              "      <td>-0.125</td>\n",
              "      <td>-0.100000</td>\n",
              "      <td>0.000000</td>\n",
              "      <td>0.000000</td>\n",
              "      <td>0.500000</td>\n",
              "      <td>0.000000</td>\n",
              "      <td>711</td>\n",
              "    </tr>\n",
              "    <tr>\n",
              "      <th>2</th>\n",
              "      <td>http://mashable.com/2013/01/07/apple-40-billio...</td>\n",
              "      <td>731.0</td>\n",
              "      <td>9.0</td>\n",
              "      <td>211.0</td>\n",
              "      <td>0.575130</td>\n",
              "      <td>1.0</td>\n",
              "      <td>0.663866</td>\n",
              "      <td>3.0</td>\n",
              "      <td>1.0</td>\n",
              "      <td>1.0</td>\n",
              "      <td>...</td>\n",
              "      <td>0.100000</td>\n",
              "      <td>1.0</td>\n",
              "      <td>-0.466667</td>\n",
              "      <td>-0.800</td>\n",
              "      <td>-0.133333</td>\n",
              "      <td>0.000000</td>\n",
              "      <td>0.000000</td>\n",
              "      <td>0.500000</td>\n",
              "      <td>0.000000</td>\n",
              "      <td>1500</td>\n",
              "    </tr>\n",
              "    <tr>\n",
              "      <th>3</th>\n",
              "      <td>http://mashable.com/2013/01/07/astronaut-notre...</td>\n",
              "      <td>731.0</td>\n",
              "      <td>9.0</td>\n",
              "      <td>531.0</td>\n",
              "      <td>0.503788</td>\n",
              "      <td>1.0</td>\n",
              "      <td>0.665635</td>\n",
              "      <td>9.0</td>\n",
              "      <td>0.0</td>\n",
              "      <td>1.0</td>\n",
              "      <td>...</td>\n",
              "      <td>0.136364</td>\n",
              "      <td>0.8</td>\n",
              "      <td>-0.369697</td>\n",
              "      <td>-0.600</td>\n",
              "      <td>-0.166667</td>\n",
              "      <td>0.000000</td>\n",
              "      <td>0.000000</td>\n",
              "      <td>0.500000</td>\n",
              "      <td>0.000000</td>\n",
              "      <td>1200</td>\n",
              "    </tr>\n",
              "    <tr>\n",
              "      <th>4</th>\n",
              "      <td>http://mashable.com/2013/01/07/att-u-verse-apps/</td>\n",
              "      <td>731.0</td>\n",
              "      <td>13.0</td>\n",
              "      <td>1072.0</td>\n",
              "      <td>0.415646</td>\n",
              "      <td>1.0</td>\n",
              "      <td>0.540890</td>\n",
              "      <td>19.0</td>\n",
              "      <td>19.0</td>\n",
              "      <td>20.0</td>\n",
              "      <td>...</td>\n",
              "      <td>0.033333</td>\n",
              "      <td>1.0</td>\n",
              "      <td>-0.220192</td>\n",
              "      <td>-0.500</td>\n",
              "      <td>-0.050000</td>\n",
              "      <td>0.454545</td>\n",
              "      <td>0.136364</td>\n",
              "      <td>0.045455</td>\n",
              "      <td>0.136364</td>\n",
              "      <td>505</td>\n",
              "    </tr>\n",
              "  </tbody>\n",
              "</table>\n",
              "<p>5 rows × 61 columns</p>\n",
              "</div>\n",
              "    <div class=\"colab-df-buttons\">\n",
              "\n",
              "  <div class=\"colab-df-container\">\n",
              "    <button class=\"colab-df-convert\" onclick=\"convertToInteractive('df-54c45418-2de6-4851-ac6d-96187b5232e8')\"\n",
              "            title=\"Convert this dataframe to an interactive table.\"\n",
              "            style=\"display:none;\">\n",
              "\n",
              "  <svg xmlns=\"http://www.w3.org/2000/svg\" height=\"24px\" viewBox=\"0 -960 960 960\">\n",
              "    <path d=\"M120-120v-720h720v720H120Zm60-500h600v-160H180v160Zm220 220h160v-160H400v160Zm0 220h160v-160H400v160ZM180-400h160v-160H180v160Zm440 0h160v-160H620v160ZM180-180h160v-160H180v160Zm440 0h160v-160H620v160Z\"/>\n",
              "  </svg>\n",
              "    </button>\n",
              "\n",
              "  <style>\n",
              "    .colab-df-container {\n",
              "      display:flex;\n",
              "      gap: 12px;\n",
              "    }\n",
              "\n",
              "    .colab-df-convert {\n",
              "      background-color: #E8F0FE;\n",
              "      border: none;\n",
              "      border-radius: 50%;\n",
              "      cursor: pointer;\n",
              "      display: none;\n",
              "      fill: #1967D2;\n",
              "      height: 32px;\n",
              "      padding: 0 0 0 0;\n",
              "      width: 32px;\n",
              "    }\n",
              "\n",
              "    .colab-df-convert:hover {\n",
              "      background-color: #E2EBFA;\n",
              "      box-shadow: 0px 1px 2px rgba(60, 64, 67, 0.3), 0px 1px 3px 1px rgba(60, 64, 67, 0.15);\n",
              "      fill: #174EA6;\n",
              "    }\n",
              "\n",
              "    .colab-df-buttons div {\n",
              "      margin-bottom: 4px;\n",
              "    }\n",
              "\n",
              "    [theme=dark] .colab-df-convert {\n",
              "      background-color: #3B4455;\n",
              "      fill: #D2E3FC;\n",
              "    }\n",
              "\n",
              "    [theme=dark] .colab-df-convert:hover {\n",
              "      background-color: #434B5C;\n",
              "      box-shadow: 0px 1px 3px 1px rgba(0, 0, 0, 0.15);\n",
              "      filter: drop-shadow(0px 1px 2px rgba(0, 0, 0, 0.3));\n",
              "      fill: #FFFFFF;\n",
              "    }\n",
              "  </style>\n",
              "\n",
              "    <script>\n",
              "      const buttonEl =\n",
              "        document.querySelector('#df-54c45418-2de6-4851-ac6d-96187b5232e8 button.colab-df-convert');\n",
              "      buttonEl.style.display =\n",
              "        google.colab.kernel.accessAllowed ? 'block' : 'none';\n",
              "\n",
              "      async function convertToInteractive(key) {\n",
              "        const element = document.querySelector('#df-54c45418-2de6-4851-ac6d-96187b5232e8');\n",
              "        const dataTable =\n",
              "          await google.colab.kernel.invokeFunction('convertToInteractive',\n",
              "                                                    [key], {});\n",
              "        if (!dataTable) return;\n",
              "\n",
              "        const docLinkHtml = 'Like what you see? Visit the ' +\n",
              "          '<a target=\"_blank\" href=https://colab.research.google.com/notebooks/data_table.ipynb>data table notebook</a>'\n",
              "          + ' to learn more about interactive tables.';\n",
              "        element.innerHTML = '';\n",
              "        dataTable['output_type'] = 'display_data';\n",
              "        await google.colab.output.renderOutput(dataTable, element);\n",
              "        const docLink = document.createElement('div');\n",
              "        docLink.innerHTML = docLinkHtml;\n",
              "        element.appendChild(docLink);\n",
              "      }\n",
              "    </script>\n",
              "  </div>\n",
              "\n",
              "\n",
              "<div id=\"df-348924a9-a0f9-4232-af90-597f496d8ae2\">\n",
              "  <button class=\"colab-df-quickchart\" onclick=\"quickchart('df-348924a9-a0f9-4232-af90-597f496d8ae2')\"\n",
              "            title=\"Suggest charts\"\n",
              "            style=\"display:none;\">\n",
              "\n",
              "<svg xmlns=\"http://www.w3.org/2000/svg\" height=\"24px\"viewBox=\"0 0 24 24\"\n",
              "     width=\"24px\">\n",
              "    <g>\n",
              "        <path d=\"M19 3H5c-1.1 0-2 .9-2 2v14c0 1.1.9 2 2 2h14c1.1 0 2-.9 2-2V5c0-1.1-.9-2-2-2zM9 17H7v-7h2v7zm4 0h-2V7h2v10zm4 0h-2v-4h2v4z\"/>\n",
              "    </g>\n",
              "</svg>\n",
              "  </button>\n",
              "\n",
              "<style>\n",
              "  .colab-df-quickchart {\n",
              "      --bg-color: #E8F0FE;\n",
              "      --fill-color: #1967D2;\n",
              "      --hover-bg-color: #E2EBFA;\n",
              "      --hover-fill-color: #174EA6;\n",
              "      --disabled-fill-color: #AAA;\n",
              "      --disabled-bg-color: #DDD;\n",
              "  }\n",
              "\n",
              "  [theme=dark] .colab-df-quickchart {\n",
              "      --bg-color: #3B4455;\n",
              "      --fill-color: #D2E3FC;\n",
              "      --hover-bg-color: #434B5C;\n",
              "      --hover-fill-color: #FFFFFF;\n",
              "      --disabled-bg-color: #3B4455;\n",
              "      --disabled-fill-color: #666;\n",
              "  }\n",
              "\n",
              "  .colab-df-quickchart {\n",
              "    background-color: var(--bg-color);\n",
              "    border: none;\n",
              "    border-radius: 50%;\n",
              "    cursor: pointer;\n",
              "    display: none;\n",
              "    fill: var(--fill-color);\n",
              "    height: 32px;\n",
              "    padding: 0;\n",
              "    width: 32px;\n",
              "  }\n",
              "\n",
              "  .colab-df-quickchart:hover {\n",
              "    background-color: var(--hover-bg-color);\n",
              "    box-shadow: 0 1px 2px rgba(60, 64, 67, 0.3), 0 1px 3px 1px rgba(60, 64, 67, 0.15);\n",
              "    fill: var(--button-hover-fill-color);\n",
              "  }\n",
              "\n",
              "  .colab-df-quickchart-complete:disabled,\n",
              "  .colab-df-quickchart-complete:disabled:hover {\n",
              "    background-color: var(--disabled-bg-color);\n",
              "    fill: var(--disabled-fill-color);\n",
              "    box-shadow: none;\n",
              "  }\n",
              "\n",
              "  .colab-df-spinner {\n",
              "    border: 2px solid var(--fill-color);\n",
              "    border-color: transparent;\n",
              "    border-bottom-color: var(--fill-color);\n",
              "    animation:\n",
              "      spin 1s steps(1) infinite;\n",
              "  }\n",
              "\n",
              "  @keyframes spin {\n",
              "    0% {\n",
              "      border-color: transparent;\n",
              "      border-bottom-color: var(--fill-color);\n",
              "      border-left-color: var(--fill-color);\n",
              "    }\n",
              "    20% {\n",
              "      border-color: transparent;\n",
              "      border-left-color: var(--fill-color);\n",
              "      border-top-color: var(--fill-color);\n",
              "    }\n",
              "    30% {\n",
              "      border-color: transparent;\n",
              "      border-left-color: var(--fill-color);\n",
              "      border-top-color: var(--fill-color);\n",
              "      border-right-color: var(--fill-color);\n",
              "    }\n",
              "    40% {\n",
              "      border-color: transparent;\n",
              "      border-right-color: var(--fill-color);\n",
              "      border-top-color: var(--fill-color);\n",
              "    }\n",
              "    60% {\n",
              "      border-color: transparent;\n",
              "      border-right-color: var(--fill-color);\n",
              "    }\n",
              "    80% {\n",
              "      border-color: transparent;\n",
              "      border-right-color: var(--fill-color);\n",
              "      border-bottom-color: var(--fill-color);\n",
              "    }\n",
              "    90% {\n",
              "      border-color: transparent;\n",
              "      border-bottom-color: var(--fill-color);\n",
              "    }\n",
              "  }\n",
              "</style>\n",
              "\n",
              "  <script>\n",
              "    async function quickchart(key) {\n",
              "      const quickchartButtonEl =\n",
              "        document.querySelector('#' + key + ' button');\n",
              "      quickchartButtonEl.disabled = true;  // To prevent multiple clicks.\n",
              "      quickchartButtonEl.classList.add('colab-df-spinner');\n",
              "      try {\n",
              "        const charts = await google.colab.kernel.invokeFunction(\n",
              "            'suggestCharts', [key], {});\n",
              "      } catch (error) {\n",
              "        console.error('Error during call to suggestCharts:', error);\n",
              "      }\n",
              "      quickchartButtonEl.classList.remove('colab-df-spinner');\n",
              "      quickchartButtonEl.classList.add('colab-df-quickchart-complete');\n",
              "    }\n",
              "    (() => {\n",
              "      let quickchartButtonEl =\n",
              "        document.querySelector('#df-348924a9-a0f9-4232-af90-597f496d8ae2 button');\n",
              "      quickchartButtonEl.style.display =\n",
              "        google.colab.kernel.accessAllowed ? 'block' : 'none';\n",
              "    })();\n",
              "  </script>\n",
              "</div>\n",
              "    </div>\n",
              "  </div>\n"
            ]
          },
          "metadata": {},
          "execution_count": 2
        }
      ],
      "source": [
        "# Load the correct dataset\n",
        "import pandas as pd\n",
        "correct_data_path = 'https://raw.githubusercontent.com/mohit-kosekar/DAV-6150-repo/main/M4_Data.csv'\n",
        "df_correct = pd.read_csv(correct_data_path)\n",
        "\n",
        "# Display the first few rows of the dataframe to understand its structure\n",
        "df_correct.head()"
      ]
    },
    {
      "cell_type": "markdown",
      "source": [
        "## Dataset Overview\n",
        "\n",
        "The dataset consists of 61 attributes for 39,797 online news articles from Mashable. Each row represents a unique article with features that describe aspects of the content, such as the number of words in the title (`n_tokens_title`), the number of words in the content (`n_tokens_content`), the rate of unique tokens (`n_unique_tokens`), and various other metrics related to the article's content and sentiment. The `shares` column, which we aim to predict, indicates the popularity of the article, measured by the number of times it has been shared.\n",
        "\n",
        "Here are the first few rows of the dataset, providing a glimpse into the variety of features collected for each article:\n",
        "\n",
        "| url | timedelta | n_tokens_title | n_tokens_content | ... | shares |\n",
        "|-----|-----------|----------------|------------------|-----|--------|\n",
        "| [Article URL] | 731.0 | 12.0 | 219.0 | ... | 593 |\n",
        "| [Article URL] | 731.0 | 9.0 | 255.0 | ... | 711 |\n",
        "| [Article URL] | 731.0 | 9.0 | 211.0 | ... | 1500 |\n",
        "| [Article URL] | 731.0 | 9.0 | 531.0 | ... | 1200 |\n",
        "| [Article URL] | 731.0 | 13.0 | 1072.0 | ... | 505 |\n",
        "\n",
        "This table demonstrates the dataset's comprehensive coverage of factors that could influence an article's shareability, from basic content metrics to more nuanced sentiment analyses. Understanding these features' relationships and their combined effect on the number of shares will be crucial for our predictive modeling.\n"
      ],
      "metadata": {
        "id": "y34m0CfQmNyO"
      }
    },
    {
      "cell_type": "markdown",
      "source": [
        "## Exploratory Data Analysis (EDA)\n",
        "\n",
        "We began by loading the dataset and performing initial checks for missing values, which revealed a complete dataset ready for analysis. Subsequent statistical summaries provided insight into the distribution and scale of the variables.\n",
        "\n",
        "Visualizations, including histograms and box plots, highlighted the target variable's skewed distribution and identified outliers, suggesting the presence of highly viral articles. Correlation analysis offered preliminary insights into potential predictors of article shares, although no strong linear relationships were identified.\n",
        "\n",
        "This phase underscored the complex nature of the dataset and set the stage for feature selection and dimensionality reduction.\n"
      ],
      "metadata": {
        "id": "8zEGpkw1l0bH"
      }
    },
    {
      "cell_type": "code",
      "source": [
        "# Check for missing values\n",
        "missing_values = df_correct.isnull().sum()\n",
        "\n",
        "# Statistical summary of the numerical attributes\n",
        "statistical_summary = df_correct.describe()\n",
        "\n",
        "# Display the results\n",
        "missing_values, statistical_summary"
      ],
      "metadata": {
        "colab": {
          "base_uri": "https://localhost:8080/"
        },
        "id": "pA3OE4sfhRxX",
        "outputId": "3720f002-3342-4896-eb11-6d40fc48d78a"
      },
      "execution_count": null,
      "outputs": [
        {
          "output_type": "execute_result",
          "data": {
            "text/plain": [
              "(url                              0\n",
              "  timedelta                       0\n",
              "  n_tokens_title                  0\n",
              "  n_tokens_content                0\n",
              "  n_unique_tokens                 0\n",
              "                                 ..\n",
              "  title_subjectivity              0\n",
              "  title_sentiment_polarity        0\n",
              "  abs_title_subjectivity          0\n",
              "  abs_title_sentiment_polarity    0\n",
              "  shares                          0\n",
              " Length: 61, dtype: int64,\n",
              "           timedelta   n_tokens_title   n_tokens_content   n_unique_tokens  \\\n",
              " count  39644.000000     39644.000000       39644.000000      39644.000000   \n",
              " mean     354.530471        10.398749         546.514731          0.548216   \n",
              " std      214.163767         2.114037         471.107508          3.520708   \n",
              " min        8.000000         2.000000           0.000000          0.000000   \n",
              " 25%      164.000000         9.000000         246.000000          0.470870   \n",
              " 50%      339.000000        10.000000         409.000000          0.539226   \n",
              " 75%      542.000000        12.000000         716.000000          0.608696   \n",
              " max      731.000000        23.000000        8474.000000        701.000000   \n",
              " \n",
              "         n_non_stop_words   n_non_stop_unique_tokens     num_hrefs  \\\n",
              " count       39644.000000               39644.000000  39644.000000   \n",
              " mean            0.996469                   0.689175     10.883690   \n",
              " std             5.231231                   3.264816     11.332017   \n",
              " min             0.000000                   0.000000      0.000000   \n",
              " 25%             1.000000                   0.625739      4.000000   \n",
              " 50%             1.000000                   0.690476      8.000000   \n",
              " 75%             1.000000                   0.754630     14.000000   \n",
              " max          1042.000000                 650.000000    304.000000   \n",
              " \n",
              "         num_self_hrefs      num_imgs    num_videos  ...  \\\n",
              " count     39644.000000  39644.000000  39644.000000  ...   \n",
              " mean          3.293638      4.544143      1.249874  ...   \n",
              " std           3.855141      8.309434      4.107855  ...   \n",
              " min           0.000000      0.000000      0.000000  ...   \n",
              " 25%           1.000000      1.000000      0.000000  ...   \n",
              " 50%           3.000000      1.000000      0.000000  ...   \n",
              " 75%           4.000000      4.000000      1.000000  ...   \n",
              " max         116.000000    128.000000     91.000000  ...   \n",
              " \n",
              "         min_positive_polarity   max_positive_polarity   avg_negative_polarity  \\\n",
              " count            39644.000000            39644.000000            39644.000000   \n",
              " mean                 0.095446                0.756728               -0.259524   \n",
              " std                  0.071315                0.247786                0.127726   \n",
              " min                  0.000000                0.000000               -1.000000   \n",
              " 25%                  0.050000                0.600000               -0.328383   \n",
              " 50%                  0.100000                0.800000               -0.253333   \n",
              " 75%                  0.100000                1.000000               -0.186905   \n",
              " max                  1.000000                1.000000                0.000000   \n",
              " \n",
              "         min_negative_polarity   max_negative_polarity   title_subjectivity  \\\n",
              " count            39644.000000            39644.000000         39644.000000   \n",
              " mean                -0.521944               -0.107500             0.282353   \n",
              " std                  0.290290                0.095373             0.324247   \n",
              " min                 -1.000000               -1.000000             0.000000   \n",
              " 25%                 -0.700000               -0.125000             0.000000   \n",
              " 50%                 -0.500000               -0.100000             0.150000   \n",
              " 75%                 -0.300000               -0.050000             0.500000   \n",
              " max                  0.000000                0.000000             1.000000   \n",
              " \n",
              "         title_sentiment_polarity   abs_title_subjectivity  \\\n",
              " count               39644.000000             39644.000000   \n",
              " mean                    0.071425                 0.341843   \n",
              " std                     0.265450                 0.188791   \n",
              " min                    -1.000000                 0.000000   \n",
              " 25%                     0.000000                 0.166667   \n",
              " 50%                     0.000000                 0.500000   \n",
              " 75%                     0.150000                 0.500000   \n",
              " max                     1.000000                 0.500000   \n",
              " \n",
              "         abs_title_sentiment_polarity         shares  \n",
              " count                   39644.000000   39644.000000  \n",
              " mean                        0.156064    3395.380184  \n",
              " std                         0.226294   11626.950749  \n",
              " min                         0.000000       1.000000  \n",
              " 25%                         0.000000     946.000000  \n",
              " 50%                         0.000000    1400.000000  \n",
              " 75%                         0.250000    2800.000000  \n",
              " max                         1.000000  843300.000000  \n",
              " \n",
              " [8 rows x 60 columns])"
            ]
          },
          "metadata": {},
          "execution_count": 3
        }
      ]
    },
    {
      "cell_type": "markdown",
      "source": [
        "### Missing Values and Statistical Summary\n",
        "\n",
        "The dataset was thoroughly examined for missing values across all 61 attributes, confirming a complete dataset with no missing entries. This completeness ensures a robust foundation for further analysis and modeling.\n",
        "\n",
        "The statistical summary provides a detailed overview of the dataset's characteristics, including counts, mean values, standard deviations, and the range (min to max values) for numerical features. Key observations include:\n",
        "\n",
        "- The `timedelta` feature, representing the age of the article in days at the time of data collection, spans from 8 to 731 days, indicating a wide range of article ages.\n",
        "- Content-related features, such as `n_tokens_content` (number of words in the article), show significant variability in article lengths, with a maximum of 8474 words.\n",
        "- Engagement metrics like `num_hrefs` (number of hyperlinks), `num_imgs` (number of images), and `num_videos` (number of videos) vary widely, suggesting diverse content strategies across the articles.\n",
        "- Sentiment and subjectivity measures (`title_subjectivity`, `title_sentiment_polarity`, `abs_title_subjectivity`, `abs_title_sentiment_polarity`) and their distribution hint at the varied emotional and subjective framing of article titles.\n",
        "\n",
        "This summary not only highlights the dataset's multidimensional nature but also sets the stage for identifying relevant features that could predict article shares effectively.\n"
      ],
      "metadata": {
        "id": "KISpw57FmYEU"
      }
    },
    {
      "cell_type": "code",
      "source": [
        "import matplotlib.pyplot as plt\n",
        "import seaborn as sns\n",
        "\n",
        "# Set the aesthetic style of the plots\n",
        "sns.set_style(\"whitegrid\")\n",
        "\n",
        "# Histogram of the 'shares' column to understand its distribution\n",
        "plt.figure(figsize=(10, 6))\n",
        "sns.histplot(df_correct[' shares'], bins=50, kde=True)\n",
        "plt.title('Distribution of Article Shares')\n",
        "plt.xlabel('Shares')\n",
        "plt.ylabel('Frequency')\n",
        "plt.xscale('log')  # Using a log scale due to wide range in 'shares'\n",
        "plt.show()\n",
        "\n",
        "# Box plot for 'shares' to identify outliers\n",
        "plt.figure(figsize=(10, 6))\n",
        "sns.boxplot(x=df_correct[' shares'])\n",
        "plt.title('Box Plot of Article Shares')\n",
        "plt.xlabel('Shares')\n",
        "plt.show()"
      ],
      "metadata": {
        "colab": {
          "base_uri": "https://localhost:8080/",
          "height": 1000
        },
        "id": "e3y1z4tBhfT4",
        "outputId": "88d74295-895b-4415-a246-83231bb96060"
      },
      "execution_count": null,
      "outputs": [
        {
          "output_type": "display_data",
          "data": {
            "text/plain": [
              "<Figure size 1000x600 with 1 Axes>"
            ],
            "image/png": "[encoded data removed]"
          },
          "metadata": {}
        },
        {
          "output_type": "display_data",
          "data": {
            "text/plain": [
              "<Figure size 1000x600 with 1 Axes>"
            ],
            "image/png": "[encoded data removed]"
          },
          "metadata": {}
        }
      ]
    },
    {
      "cell_type": "markdown",
      "source": [
        "### Distribution of Article Shares\n",
        "\n",
        "The histogram above illustrates the distribution of the `shares` column, which represents the number of times articles have been shared. Notably, the distribution is heavily right-skewed, indicating that while most articles have a relatively low share count, a few articles achieve significantly higher popularity. This skewness highlights the challenges in predicting article shares, as the data contains a wide range of values, from articles with minimal shares to viral hits.\n",
        "\n",
        "The logarithmic scale was applied to better visualize the wide distribution range, revealing the concentration of articles within lower share counts and the long tail of articles with higher share counts.\n"
      ],
      "metadata": {
        "id": "B2f5Uku_ms-Z"
      }
    },
    {
      "cell_type": "markdown",
      "source": [
        "### Identifying Outliers in Article Shares\n",
        "\n",
        "The box plot above provides insight into the presence of outliers within the article shares. The plot shows a significant number of articles with shares well above the upper quartile, extending far into the higher share range. These outliers indicate articles that have achieved exceptional virality compared to the majority.\n",
        "\n",
        "This visualization is crucial for understanding the variability in article popularity and underscores the importance of considering outliers in our analysis and modeling efforts. The presence of outliers suggests that predictive modeling may need to account for extreme values to accurately capture the dynamics of article sharing.\n"
      ],
      "metadata": {
        "id": "Jf9E_t8rmycE"
      }
    },
    {
      "cell_type": "code",
      "source": [
        "# Select a subset of variables for correlation analysis\n",
        "variables_of_interest = [' n_tokens_title', ' n_tokens_content', ' n_unique_tokens',\n",
        "                         ' num_hrefs', ' num_self_hrefs', ' num_imgs', ' num_videos',\n",
        "                         ' average_token_length', ' num_keywords',\n",
        "                         ' data_channel_is_lifestyle', ' data_channel_is_entertainment',\n",
        "                         ' data_channel_is_bus', ' data_channel_is_socmed',\n",
        "                         ' data_channel_is_tech', ' data_channel_is_world',\n",
        "                         ' global_subjectivity', ' global_sentiment_polarity',\n",
        "                         ' global_rate_positive_words', ' global_rate_negative_words',\n",
        "                         ' rate_positive_words', ' rate_negative_words',\n",
        "                         ' avg_positive_polarity', ' min_positive_polarity',\n",
        "                         ' max_positive_polarity', ' avg_negative_polarity',\n",
        "                         ' min_negative_polarity', ' max_negative_polarity',\n",
        "                         ' title_subjectivity', ' title_sentiment_polarity', ' shares']\n",
        "\n",
        "# Compute the correlation matrix\n",
        "correlation_matrix = df_correct[variables_of_interest].corr()\n",
        "\n",
        "# Correlation of explanatory variables with the target variable 'shares'\n",
        "correlation_with_shares = correlation_matrix[' shares'].sort_values(key=abs, ascending=False)\n",
        "\n",
        "# Display the correlation values\n",
        "correlation_with_shares"
      ],
      "metadata": {
        "colab": {
          "base_uri": "https://localhost:8080/"
        },
        "id": "DOUavwjihikF",
        "outputId": "8e13de6b-ab69-40da-baae-a0bbc42b99ad"
      },
      "execution_count": null,
      "outputs": [
        {
          "output_type": "execute_result",
          "data": {
            "text/plain": [
              " shares                           1.000000\n",
              " data_channel_is_world           -0.049497\n",
              " num_hrefs                        0.045404\n",
              " num_imgs                         0.039388\n",
              " avg_negative_polarity           -0.032029\n",
              " global_subjectivity              0.031604\n",
              " num_videos                       0.023936\n",
              " average_token_length            -0.022007\n",
              " title_subjectivity               0.021967\n",
              " num_keywords                     0.021818\n",
              " max_negative_polarity           -0.019300\n",
              " min_negative_polarity           -0.019297\n",
              " data_channel_is_entertainment   -0.017006\n",
              " data_channel_is_tech            -0.013253\n",
              " rate_positive_words             -0.013241\n",
              " title_sentiment_polarity         0.012772\n",
              " data_channel_is_bus             -0.012376\n",
              " avg_positive_polarity            0.012142\n",
              " max_positive_polarity            0.010068\n",
              " n_tokens_title                   0.008783\n",
              " global_rate_negative_words       0.006615\n",
              " data_channel_is_lifestyle        0.005831\n",
              " rate_negative_words             -0.005183\n",
              " data_channel_is_socmed           0.005021\n",
              " global_sentiment_polarity        0.004163\n",
              " n_tokens_content                 0.002459\n",
              " num_self_hrefs                  -0.001900\n",
              " n_unique_tokens                  0.000806\n",
              " global_rate_positive_words       0.000543\n",
              " min_positive_polarity           -0.000040\n",
              "Name:  shares, dtype: float64"
            ]
          },
          "metadata": {},
          "execution_count": 5
        }
      ]
    },
    {
      "cell_type": "markdown",
      "source": [
        "### Feature Correlations with Shares\n",
        "\n",
        "This correlation analysis identifies how various features relate to the `shares` of articles. Key findings include:\n",
        "\n",
        "- Features like `num_hrefs` (0.045404) and `num_imgs` (0.039388) show a modest positive correlation, indicating articles with more hyperlinks and images tend to have higher shares.\n",
        "- Conversely, `data_channel_is_world` (-0.049497) exhibits a slight negative correlation, suggesting world news articles may be shared less.\n",
        "- Sentiment attributes such as `avg_negative_polarity` (-0.032029) and `global_subjectivity` (0.031604) also correlate with shares, pointing to the potential impact of content's emotional tone on its virality.\n",
        "\n",
        "These correlations, while not strong, offer insights into factors that might influence an article's shareability.\n"
      ],
      "metadata": {
        "id": "JdWXhBKZm3_S"
      }
    },
    {
      "cell_type": "markdown",
      "source": [
        "## Feature Selection / Dimensionality Reduction\n",
        "\n",
        "Our feature selection process utilized `SelectKBest` with `f_regression` to identify the top 20 features with the highest correlation to the target variable. To further simplify the model, PCA was applied, reducing the feature set to 14 principal components that captured approximately 95.42% of the variance.\n",
        "\n",
        "This step effectively reduced the dataset's complexity, maintaining a balance between simplification and information retention, crucial for building a predictive model.\n"
      ],
      "metadata": {
        "id": "P7tXv2qwl8i9"
      }
    },
    {
      "cell_type": "code",
      "source": [
        "from sklearn.feature_selection import SelectKBest, f_regression\n",
        "\n",
        "# Dropping non-numeric and target variable to prepare for feature selection\n",
        "X = df_correct.drop(['url', ' shares'], axis=1)\n",
        "y = df_correct[' shares']\n",
        "\n",
        "# Apply SelectKBest to extract top features\n",
        "select_k_best = SelectKBest(score_func=f_regression, k=20)  # Let's select top 20 features for illustration\n",
        "fit = select_k_best.fit(X, y)\n",
        "\n",
        "# Get columns to keep and create new dataframe with those only\n",
        "cols = select_k_best.get_support(indices=True)\n",
        "features_df_new = X.iloc[:,cols]\n",
        "\n",
        "# Convert to list for display\n",
        "selected_features = features_df_new.columns.tolist()\n",
        "\n",
        "# Display the selected features\n",
        "selected_features"
      ],
      "metadata": {
        "colab": {
          "base_uri": "https://localhost:8080/"
        },
        "id": "PG8NWxn7jcP3",
        "outputId": "567cc31a-3010-4bc0-97da-52db75bdeb11"
      },
      "execution_count": null,
      "outputs": [
        {
          "output_type": "execute_result",
          "data": {
            "text/plain": [
              "[' num_hrefs',\n",
              " ' num_imgs',\n",
              " ' num_videos',\n",
              " ' average_token_length',\n",
              " ' data_channel_is_world',\n",
              " ' kw_max_min',\n",
              " ' kw_avg_min',\n",
              " ' kw_avg_max',\n",
              " ' kw_min_avg',\n",
              " ' kw_max_avg',\n",
              " ' kw_avg_avg',\n",
              " ' self_reference_min_shares',\n",
              " ' self_reference_max_shares',\n",
              " ' self_reference_avg_sharess',\n",
              " ' LDA_02',\n",
              " ' LDA_03',\n",
              " ' global_subjectivity',\n",
              " ' avg_negative_polarity',\n",
              " ' title_subjectivity',\n",
              " ' abs_title_sentiment_polarity']"
            ]
          },
          "metadata": {},
          "execution_count": 6
        }
      ]
    },
    {
      "cell_type": "markdown",
      "source": [
        "### Key Features Selected\n",
        "\n",
        "Using `SelectKBest` with `f_regression`, we identified the top 20 features most correlated with article shares. These include metrics on article hyperlinks (`num_hrefs`), multimedia content (`num_imgs`, `num_videos`), content length (`average_token_length`), topic categories (`data_channel_is_world`), keyword popularity (`kw_max_min`, `kw_avg_min`, etc.), self-references (`self_reference_min_shares`, etc.), content topics (`LDA_02`, `LDA_03`), and sentiment analysis (`global_subjectivity`, `avg_negative_polarity`, `title_subjectivity`, `abs_title_sentiment_polarity`). These features provide a comprehensive view of factors potentially influencing the shareability of online news articles.\n"
      ],
      "metadata": {
        "id": "yt2GKkHcnSaX"
      }
    },
    {
      "cell_type": "code",
      "source": [
        "from sklearn.preprocessing import StandardScaler\n",
        "from sklearn.decomposition import PCA\n",
        "\n",
        "# Standardizing the features\n",
        "scaler = StandardScaler()\n",
        "X_scaled = scaler.fit_transform(features_df_new)\n",
        "\n",
        "# Applying PCA\n",
        "pca = PCA(n_components=0.95)  # We need to capture 95% of the variance\n",
        "X_pca = pca.fit_transform(X_scaled)\n",
        "\n",
        "# Number of components chosen\n",
        "num_components = pca.n_components_\n",
        "\n",
        "# Variance explained by the chosen components\n",
        "variance_explained = sum(pca.explained_variance_ratio_)\n",
        "\n",
        "# Display the results\n",
        "num_components, variance_explained"
      ],
      "metadata": {
        "colab": {
          "base_uri": "https://localhost:8080/"
        },
        "id": "v4Tf1q-Zhoo1",
        "outputId": "7c88ec18-c995-4e6a-b727-8d8041f16a3d"
      },
      "execution_count": null,
      "outputs": [
        {
          "output_type": "execute_result",
          "data": {
            "text/plain": [
              "(14, 0.95422986775471)"
            ]
          },
          "metadata": {},
          "execution_count": 7
        }
      ]
    },
    {
      "cell_type": "markdown",
      "source": [
        "### PCA Dimensionality Reduction Outcome\n",
        "\n",
        "After applying Principal Component Analysis (PCA) to reduce dimensionality while capturing most of the dataset's variance, we achieved significant compression:\n",
        "\n",
        "- **Number of Principal Components:** 14\n",
        "- **Variance Explained:** Approximately 95.42%\n",
        "\n",
        "This reduction indicates that with just 14 principal components, we can retain over 95% of the data's original variance, showcasing PCA's effectiveness in distilling the dataset's essence into fewer dimensions.\n"
      ],
      "metadata": {
        "id": "C731PAtGnYGF"
      }
    },
    {
      "cell_type": "markdown",
      "source": [
        "## Regression Model Evaluation\n",
        "\n",
        "The linear regression model, trained on the principal components, was evaluated using cross-validation. The negative mean squared error indicated a discrepancy between predicted and actual shares, suggesting room for improvement in model performance.\n",
        "\n",
        "This evaluation highlights the challenge of predicting article popularity and suggests that alternative modeling strategies may be necessary to achieve higher accuracy.\n"
      ],
      "metadata": {
        "id": "IeRkTx1DluRc"
      }
    },
    {
      "cell_type": "code",
      "source": [
        "from sklearn.model_selection import cross_val_score\n",
        "from sklearn.linear_model import LinearRegression\n",
        "\n",
        "# Linear Regression model\n",
        "lr = LinearRegression()\n",
        "\n",
        "# Cross-validation scores\n",
        "scores = cross_val_score(lr, X_pca, y, cv=5, scoring='neg_mean_squared_error')\n",
        "\n",
        "# Mean and standard deviation of cross-validation scores\n",
        "mean_score = scores.mean()\n",
        "std_dev = scores.std()\n",
        "\n",
        "# Display the results\n",
        "mean_score, std_dev"
      ],
      "metadata": {
        "colab": {
          "base_uri": "https://localhost:8080/"
        },
        "id": "6cQ1sgJrk-BV",
        "outputId": "1006e656-ade4-49e8-a0e8-d34b814e0494"
      },
      "execution_count": null,
      "outputs": [
        {
          "output_type": "execute_result",
          "data": {
            "text/plain": [
              "(-133650210.32824838, 75335092.59081483)"
            ]
          },
          "metadata": {},
          "execution_count": 8
        }
      ]
    },
    {
      "cell_type": "markdown",
      "source": [
        "### Linear Regression Model Performance\n",
        "\n",
        "The linear regression model, evaluated through 5-fold cross-validation, yielded the following results:\n",
        "\n",
        "- **Mean Cross-Validation Score (Negative Mean Squared Error):** -133,650,210.33\n",
        "- **Standard Deviation of Cross-Validation Scores:** 75,335,092.59\n",
        "\n",
        "These figures indicate the model's average performance and its variability across different subsets of the data, reflecting challenges in accurately predicting article shares with the selected features and principal components.\n"
      ],
      "metadata": {
        "id": "o80UgEaOnfgE"
      }
    },
    {
      "cell_type": "markdown",
      "source": [
        "## Conclusions\n",
        "\n",
        "This assignment illuminated the challenges inherent in predicting the popularity of online news articles. Despite a systematic approach to feature selection and dimensionality reduction, the linear regression model's performance indicates the complexity of the task at hand.\n",
        "\n",
        "Future directions could include exploring more complex models, incorporating text analysis for deeper insights, and further refining the feature set. The journey through this assignment underscores the iterative nature of data science and the continuous balance between model complexity and explanatory power.\n"
      ],
      "metadata": {
        "id": "N0H07mFZlfXE"
      }
    }
  ]
}